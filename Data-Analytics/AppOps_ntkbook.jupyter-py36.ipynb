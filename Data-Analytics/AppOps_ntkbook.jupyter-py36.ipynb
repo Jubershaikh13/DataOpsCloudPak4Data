{
 "cells": [
  {
   "cell_type": "code",
   "execution_count": 1,
   "metadata": {},
   "outputs": [
    {
     "name": "stdout",
     "output_type": "stream",
     "text": [
      "Accepted\n"
     ]
    }
   ],
   "source": [
    "# Python program to accept the strings \n",
    "# which contains all the vowels \n",
    "\n",
    "# Function for check if string \n",
    "# is accepted or not \n",
    "def check(string) : \n",
    "\n",
    "\t# set() function convert \"aeiou\" \n",
    "\t# string into set of characters \n",
    "\t# i.e.vowels = {'a', 'e', 'i', 'o', 'u'} \n",
    "\tvowels = set(\"aeiou\") \n",
    "\n",
    "\t# set() function convert empty \n",
    "\t# dictionary into empty set \n",
    "\ts = set({}) \n",
    "\n",
    "\t# looping through each \n",
    "\t# character of the string \n",
    "\tfor char in string : \n",
    "\n",
    "\t# Check for the character is present inside \n",
    "\t# the vowels set or not. If present, then \n",
    "\t# add into the set s by using add method \n",
    "\t\tif char in vowels : \n",
    "\t\t\ts.add(char) \n",
    "\t\telse: \n",
    "\t\t\tpass\n",
    "\t\t\t\n",
    "\t# check the length of set s equal to length \n",
    "\t# of vowels set or not. If equal, string is \n",
    "\t# accepted otherwise not \n",
    "\tif len(s) == len(vowels) : \n",
    "\t\tprint(\"Accepted\") \n",
    "\telse : \n",
    "\t\tprint(\"Not Accepted\") \n",
    "\n",
    "\n",
    "# Driver code \n",
    "if __name__ == \"__main__\" : \n",
    "\t\n",
    "\tstring = \"SEEquoiaL\"\n",
    "\n",
    "\t# lower method of string convert \n",
    "\t# every character into small letter \n",
    "\tstring = string.lower() \n",
    "\n",
    "\t# calling function \n",
    "\tcheck(string) \n"
   ]
  },
  {
   "cell_type": "code",
   "execution_count": null,
   "metadata": {},
   "outputs": [],
   "source": []
  }
 ],
 "metadata": {
  "kernelspec": {
   "display_name": "Python3.6",
   "language": "python",
   "name": "python3"
  },
  "language_info": {
   "codemirror_mode": {
    "name": "ipython",
    "version": 3
   },
   "file_extension": ".py",
   "mimetype": "text/x-python",
   "name": "python",
   "nbconvert_exporter": "python",
   "pygments_lexer": "ipython3",
   "version": "3.6.7"
  }
 },
 "nbformat": 4,
 "nbformat_minor": 2
}
